{
 "cells": [
  {
   "cell_type": "code",
   "execution_count": 1,
   "metadata": {},
   "outputs": [],
   "source": [
    "import pandas as pd\n",
    "import numpy as np\n",
    "import random\n",
    "\n",
    "from sklearn import datasets, linear_model\n",
    "\n",
    "\n",
    "import matplotlib.pyplot as plt\n",
    "#plt.style.use(r'C:\\Users\\William.Cox\\.matplotlib\\stylelib\\test.mplstyle')\n",
    "%matplotlib inline"
   ]
  },
  {
   "cell_type": "code",
   "execution_count": 2,
   "metadata": {
    "collapsed": true
   },
   "outputs": [],
   "source": [
    "def create_dataset(how_big, variance, step=2, correlation='positive'):\n",
    "    val = 1\n",
    "    ys = []\n",
    "    \n",
    "    for i in range(how_big):\n",
    "        y = val + random.randrange(-variance,variance)\n",
    "        ys.append(y)\n",
    "        \n",
    "        if correlation and correlation=='positive':\n",
    "            val+=step\n",
    "        elif correlation and correlation=='negative':\n",
    "            val-=step\n",
    "        \n",
    "    xs = [i for i in range(len(ys))]\n",
    "    \n",
    "    return np.array(xs,dtype=np.float64), np.array(ys,dtype=np.float64)"
   ]
  },
  {
   "cell_type": "code",
   "execution_count": 3,
   "metadata": {},
   "outputs": [
    {
     "data": {
      "text/plain": [
       "<function __main__.create_dataset>"
      ]
     },
     "execution_count": 3,
     "metadata": {},
     "output_type": "execute_result"
    }
   ],
   "source": [
    "create_dataset"
   ]
  },
  {
   "cell_type": "code",
   "execution_count": 4,
   "metadata": {},
   "outputs": [],
   "source": [
    "xs, ys = create_dataset(40, 5, 2, correlation=\"positive\")"
   ]
  },
  {
   "cell_type": "code",
   "execution_count": 5,
   "metadata": {},
   "outputs": [
    {
     "data": {
      "text/plain": [
       "<matplotlib.collections.PathCollection at 0xc4e0470>"
      ]
     },
     "execution_count": 5,
     "metadata": {},
     "output_type": "execute_result"
    },
    {
     "data": {
      "image/png": "[encoded data removed]",
      "text/plain": [
       "<matplotlib.figure.Figure at 0xc2f09b0>"
      ]
     },
     "metadata": {},
     "output_type": "display_data"
    }
   ],
   "source": [
    "plt.scatter(xs, ys)"
   ]
  },
  {
   "cell_type": "markdown",
   "metadata": {},
   "source": [
    "# Best Fit Line\n",
    "\n",
    "## Least Squared Errors\n"
   ]
  },
  {
   "cell_type": "code",
   "execution_count": 6,
   "metadata": {},
   "outputs": [],
   "source": [
    "def best_fit_slope_and_intercept(xs,ys):\n",
    "    \n",
    "    m = ( ( xs.mean() * ys.mean() )  - (xs*ys).mean() )  /  ( xs.mean()**2 - (xs**2).mean() )\n",
    "    \n",
    "    b = ys.mean() - (m * xs.mean())\n",
    "    \n",
    "    return m, b"
   ]
  },
  {
   "cell_type": "code",
   "execution_count": 7,
   "metadata": {},
   "outputs": [
    {
     "name": "stdout",
     "output_type": "stream",
     "text": [
      "The slope of the regression line:  1.98048780488\n",
      "The intercept of the regression line:  0.580487804878\n"
     ]
    }
   ],
   "source": [
    "m, b = best_fit_slope_and_intercept(xs,ys)\n",
    "print \"The slope of the regression line: \", m\n",
    "print \"The intercept of the regression line: \", b"
   ]
  },
  {
   "cell_type": "code",
   "execution_count": 8,
   "metadata": {},
   "outputs": [],
   "source": [
    "regression_line = [(m*x)+b for x in xs]"
   ]
  },
  {
   "cell_type": "code",
   "execution_count": 9,
   "metadata": {},
   "outputs": [
    {
     "data": {
      "text/plain": [
       "[<matplotlib.lines.Line2D at 0xc4309b0>]"
      ]
     },
     "execution_count": 9,
     "metadata": {},
     "output_type": "execute_result"
    },
    {
     "data": {
      "image/png": "[encoded data removed]",
      "text/plain": [
       "<matplotlib.figure.Figure at 0xc48d048>"
      ]
     },
     "metadata": {},
     "output_type": "display_data"
    }
   ],
   "source": [
    "plt.scatter(xs, ys)\n",
    "plt.plot(xs, regression_line)"
   ]
  },
  {
   "cell_type": "markdown",
   "metadata": {},
   "source": [
    "# How Accurate is our Best Fit Line?"
   ]
  },
  {
   "cell_type": "code",
   "execution_count": 10,
   "metadata": {},
   "outputs": [],
   "source": [
    "def squared_error(ys_original, ys_line):\n",
    "    \n",
    "    residuals = ys_original - ys_line\n",
    "    \n",
    "    residuals_squared = residuals**2\n",
    "    \n",
    "    squared_error = residuals_squared.sum()\n",
    "    \n",
    "    \n",
    "    return squared_error"
   ]
  },
  {
   "cell_type": "code",
   "execution_count": 11,
   "metadata": {
    "collapsed": true
   },
   "outputs": [],
   "source": [
    "def coefficient_of_determination(ys_original,ys_line):\n",
    "    #Returns the mean y for every x value\n",
    "    y_mean_line = []\n",
    "\n",
    "    for y in ys:\n",
    "        y_mean_line.append(ys.mean())\n",
    "    \n",
    "    #Calculate & compare the squared error for the data against y-mean/regression line \n",
    "    squared_error_regr = squared_error(ys_original, ys_line)\n",
    "    squared_error_mean = squared_error(ys_original,y_mean_line)\n",
    "    \n",
    "    r_squared = 1 - (squared_error_regr / squared_error_mean)\n",
    "    \n",
    "    return r_squared"
   ]
  },
  {
   "cell_type": "code",
   "execution_count": 12,
   "metadata": {},
   "outputs": [
    {
     "name": "stdout",
     "output_type": "stream",
     "text": [
      "0.986394012961\n"
     ]
    }
   ],
   "source": [
    "r_squared = coefficient_of_determination(ys,regression_line)\n",
    "print r_squared"
   ]
  }
 ],
 "metadata": {
  "anaconda-cloud": {},
  "kernelspec": {
   "display_name": "Python 2",
   "language": "python",
   "name": "python2"
  },
  "language_info": {
   "codemirror_mode": {
    "name": "ipython",
    "version": 2
   },
   "file_extension": ".py",
   "mimetype": "text/x-python",
   "name": "python",
   "nbconvert_exporter": "python",
   "pygments_lexer": "ipython2",
   "version": "2.7.13"
  }
 },
 "nbformat": 4,
 "nbformat_minor": 1
}
