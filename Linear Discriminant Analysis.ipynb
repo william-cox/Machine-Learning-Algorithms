{
 "cells": [
  {
   "cell_type": "code",
   "execution_count": 134,
   "metadata": {
    "collapsed": true
   },
   "outputs": [],
   "source": [
    "import numpy as np\n",
    "import pandas as pd\n",
    "import random\n",
    "import operator\n",
    "import scipy.stats\n",
    "import seaborn as sns\n",
    "import matplotlib.pyplot as plt\n",
    "%matplotlib inline\n",
    "\n",
    "from sklearn import model_selection\n",
    "from sklearn.model_selection import train_test_split"
   ]
  },
  {
   "cell_type": "code",
   "execution_count": 135,
   "metadata": {
    "collapsed": true
   },
   "outputs": [],
   "source": [
    "#load data\n",
    "df = pd.read_csv('../data/breast-cancer-wisconsin.data.txt')\n",
    "\n",
    "#clean data\n",
    "df = df.replace('?',-99999)\n",
    "df = df.astype(float)\n",
    "df = df.drop(['id'],1)\n",
    "\n",
    "#shuffle data\n",
    "df = df.reindex(np.random.permutation(df.index))\n",
    "df = df.reset_index(drop=True)\n",
    "\n",
    "#copy data\n",
    "tf = df.copy()"
   ]
  },
  {
   "cell_type": "code",
   "execution_count": 136,
   "metadata": {
    "collapsed": true
   },
   "outputs": [],
   "source": [
    "# prepare configuration for cross validation test harness\n",
    "seed = 7\n",
    "\n",
    "X_train, X_test, y_train, y_test = model_selection.train_test_split(tf.iloc[:,:9], \n",
    "                                                                    tf.iloc[:,9], \n",
    "                                                                    test_size=0.25, \n",
    "                                                                    random_state=seed)"
   ]
  },
  {
   "cell_type": "code",
   "execution_count": 137,
   "metadata": {
    "collapsed": true
   },
   "outputs": [],
   "source": [
    "class LinearDiscriminantAnalysis(object):\n",
    "    \n",
    "    def __init__(self, printing=False, k=2):\n",
    "        self.printing = printing\n",
    "        self.k = k\n",
    "        \n",
    "    def fit(self,X_train, y_train):\n",
    "        self.trainSet = pd.concat([X_train, y_train],axis=1)\n",
    "        self.n_features = X_train.shape[1]\n",
    "        \n",
    "        trainSet = self.trainSet\n",
    "        \n",
    "        cls_means = self.class_means(trainSet)\n",
    "        self.within_class(cls_means)\n",
    "        self.between_class(cls_means)\n",
    "        \n",
    "        self.eigen(self.S_W,self.S_B)\n",
    "        self.transformation_matrix(self.eig_vals, self.eig_vecs)\n",
    "        self.train_lda = self.transform(trainSet)\n",
    "        self.centroids()\n",
    "        return \n",
    "    \n",
    "    def class_means(self, dataset):\n",
    "        class_means = {}\n",
    "        \n",
    "        for cls in dataset['class'].unique():\n",
    "            cls_data = dataset[dataset['class'] == cls]\n",
    "            mean = cls_data.describe().loc['mean'][:-1]\n",
    "            class_means[cls] = list(mean.values)\n",
    "        \n",
    "        return class_means\n",
    "    \n",
    "    def between_class(self, class_means):\n",
    "        \n",
    "        \"\"\"Create between-class scatter matrix\"\"\"\n",
    "        \n",
    "        trainSet = self.trainSet\n",
    "        n_features = self.n_features\n",
    "        \n",
    "        #vector of overall means\n",
    "        overall_mean = np.asarray(trainSet.describe().loc['mean'])[:-1]\n",
    "        overall_mean = overall_mean.reshape(n_features,1)\n",
    "        \n",
    "        S_B = np.zeros((n_features,n_features))\n",
    "        \n",
    "        for cls in class_means.keys():\n",
    "            cls_data = trainSet[trainSet['class'] == cls][:-1]\n",
    "            n = cls_data.shape[0]\n",
    "            \n",
    "            cls_mean = np.asarray(class_means[cls])\n",
    "            cls_mean = cls_mean.reshape(n_features,1)\n",
    "            \n",
    "            dif_mean = cls_mean - overall_mean\n",
    "            \n",
    "            S_B += n * dif_mean.dot(dif_mean.T)\n",
    "            \n",
    "            self.S_B = S_B\n",
    "            \n",
    "            return S_B\n",
    "        \n",
    "    def within_class(self, class_means):\n",
    "        \n",
    "        \"\"\"Create within-class scatter matrix\"\"\"\n",
    "        \n",
    "        trainSet = self.trainSet\n",
    "        n_features = self.n_features\n",
    "        \n",
    "        #initialize within-class matrix\n",
    "        S_W = np.zeros((self.n_features,self.n_features))\n",
    "        \n",
    "        #for each class..\n",
    "        for cls in class_means.keys():\n",
    "            #initialize class matrix\n",
    "            cls_mtrx = np.zeros((n_features,n_features))\n",
    "            #select class means data\n",
    "            cls_data = np.asarray(trainSet[trainSet['class'] == cls])\n",
    "            \n",
    "            \n",
    "            for row in cls_data:\n",
    "                row = row[:-1]\n",
    "                row = row.reshape(n_features,1)\n",
    "                \n",
    "                cls_mean = np.asarray(class_means[cls])\n",
    "                cls_mean = cls_mean.reshape(n_features,1)\n",
    "                \n",
    "                dif_mean = row - cls_mean\n",
    "                \n",
    "                cls_mtrx += dif_mean.dot(dif_mean.T)\n",
    "           \n",
    "            S_W += cls_mtrx\n",
    "            \n",
    "        self.S_W = S_W\n",
    "           \n",
    "        return S_W\n",
    "    \n",
    "    def eigen(self, mtrx1, mtrx2):\n",
    "       \n",
    "        #calculate eigenvectors and eigenvalues\n",
    "        eig_vals, eig_vecs = np.linalg.eig(np.linalg.inv(mtrx1).dot(mtrx2))\n",
    "\n",
    "        #for i in range(len(eig_vals)):\n",
    "        #    eigvec_sc = eig_vecs[:,i].reshape(self.n_features,1)   \n",
    "        #    print('\\nEigenvector {}: \\n{}'.format(i+1, eigvec_sc.real))\n",
    "        #    print('Eigenvalue {:}: {:.2e}'.format(i+1, eig_vals[i].real))\n",
    "            \n",
    "        self.eig_vals = eig_vals\n",
    "        self.eig_vecs = eig_vecs\n",
    "            \n",
    "        return eig_vals, eig_vecs\n",
    "    \n",
    "    def transformation_matrix(self, eig_vals, eig_vecs):\n",
    "        k = self.k\n",
    "        printing = self.printing\n",
    "        n_features = self.n_features \n",
    "        eigv_sum = sum(eig_vals)\n",
    "        \n",
    "        # Make a list of (eigenvalue, eigenvector) tuples\n",
    "        eig_pairs = [(np.abs(eig_vals[i]), eig_vecs[:,i]) for i in range(len(eig_vals))]\n",
    "\n",
    "        # Sort the (eigenvalue, eigenvector) tuples from high to low\n",
    "        eig_pairs = sorted(eig_pairs, key=lambda k: k[0], reverse=True)\n",
    "        \n",
    "        #choose k eigenvectors with the largest eigenvalues\n",
    "        top_eig_vecs = []\n",
    "        \n",
    "        for i in range(k):\n",
    "            ev = eig_pairs[i][1].reshape(n_features,1)\n",
    "            top_eig_vecs.append(ev)\n",
    "        \n",
    "        #create transformation matrix\n",
    "        W = np.hstack(top_eig_vecs)\n",
    "        self.W = W\n",
    "        \n",
    "        #printing options\n",
    "        if printing:\n",
    "            # Visually confirm that the list is correctly sorted by decreasing eigenvalues\n",
    "            print('Eigenvalues in decreasing order:\\n')\n",
    "            for i in eig_pairs:\n",
    "                print(i[0])\n",
    "            \n",
    "            #variance summary\n",
    "            print('\\nVariance explained:\\n')\n",
    "            for i,j in enumerate(eig_pairs):\n",
    "                print('eigenvalue {0:}: {1:.2%}'.format(i+1, (j[0]/eigv_sum).real))\n",
    "            \n",
    "            #transformation matrix\n",
    "            print('Matrix W:\\n', W.real)\n",
    "            \n",
    "        return W\n",
    "    \n",
    "    #project to k feature dimensions (i.e. k linear discriminants)\n",
    "    def transform(self, dataset):\n",
    "        printing = self.printing\n",
    "        n_features = self.n_features\n",
    "        W = self.W\n",
    "        \n",
    "        dataset = dataset.iloc[:,:n_features]\n",
    "        \n",
    "        lda_matrix = dataset.dot(W)\n",
    "        \n",
    "        if printing:\n",
    "            print(lda_matrix)\n",
    "        \n",
    "        return lda_matrix\n",
    "    \n",
    "    def gaussian_probability(self, x, mean, std):\n",
    "        #find gaussian probability\n",
    "        probability = scipy.stats.norm(mean, std).pdf(x)\n",
    "        return probability\n",
    "    \n",
    "    def centroids(self):\n",
    "        \"\"\"Retrieves mean and stdev for each linear discriminant for each class in training data\"\"\"\n",
    "        train_lda = self.train_lda\n",
    "        cls_vals = self.trainSet.iloc[:,9].astype('int')\n",
    "        df = pd.concat([train_lda, cls_vals], axis=1) \n",
    "        \n",
    "        centroids = {}\n",
    "        \n",
    "        #for each class...\n",
    "        for cls in cls_vals.unique():\n",
    "            #select class data\n",
    "            data = df[df['class'] == cls]\n",
    "            data = data.drop('class',axis=1) #drop class\n",
    "            lda_cls_mean = data.describe().loc['mean'].values #get means of linear discriminants\n",
    "            lda_cls_stdev = data.describe().loc['std'].values #get stdevs of linear discriminants\n",
    "            \n",
    "            centroids[cls] = [lda_cls_mean, lda_cls_stdev] #save linear discriminant means/stdevs\n",
    "            \n",
    "        self.centroids = centroids\n",
    "        \n",
    "        \n",
    "        return centroids    \n",
    "    \n",
    "    def class_probabilities(self, testInstance):\n",
    "        centroids = self.centroids\n",
    "        n_features = self.n_features\n",
    "        \n",
    "        probabilities ={}\n",
    "        \n",
    "        #for each class...\n",
    "        for cls in centroids:\n",
    "            probabilities[cls] = 1 #initialize\n",
    "            lda_cls_mean = centroids[cls][0] #retrieve linear discriminant mean vector\n",
    "            lda_cls_stdev = centroids[cls][1] #retrieve linear discriminant stdev vector\n",
    "            \n",
    "            #for each linear discriminant in k...\n",
    "            for i in range(self.k):\n",
    "                mean = lda_cls_mean[i] #retrieve linear discriminant mean\n",
    "                stdev = lda_cls_stdev[i] #retrieve linear discriminant stdev\n",
    "                x = testInstance[i] #retrieve testInstance linear discriminant value.\n",
    "\n",
    "                #calculate/update class probability by applying the chain rule of probabilities\n",
    "                probabilities[cls] *= self.gaussian_probability(x, mean, stdev)\n",
    "\n",
    "        return probabilities\n",
    "    \n",
    "    #predict class for datapoint\n",
    "    def class_predict(self, testInstance):\n",
    "        probabilities = self.class_probabilities(testInstance)\n",
    "        bestLabel, bestProb = None, -1 #initialize\n",
    "        \n",
    "        #for each class probability...\n",
    "        for cls, probability in probabilities.items():\n",
    "            if bestLabel is None or probability > bestProb: #if most likely...\n",
    "                bestProb = probability #save probability\n",
    "                bestLabel = cls #save class\n",
    "        \n",
    "        return bestLabel\n",
    "            \n",
    "    #make predictions\n",
    "    def predict(self, X_test):\n",
    "        self.testSet = X_test\n",
    "        predictions = []\n",
    "        \n",
    "        #for each testInstance...\n",
    "        for i in range(len(X_test)):\n",
    "            testInstance = X_test.iloc[i] #select testInstance\n",
    "            result = self.class_predict(testInstance) #predict testInstance class\n",
    "            predictions.append(result) #save prediction\n",
    "        return predictions\n",
    "        \n",
    "    #evaluate predictions\n",
    "    def score(self, predictions, y_test):\n",
    "        actual = y_test\n",
    "        correct = sum(predictions == actual) \n",
    "        accuracy = correct / len(actual)\n",
    "        return accuracy"
   ]
  },
  {
   "cell_type": "markdown",
   "metadata": {},
   "source": [
    "### Train Model"
   ]
  },
  {
   "cell_type": "code",
   "execution_count": 138,
   "metadata": {
    "collapsed": true
   },
   "outputs": [],
   "source": [
    "LDA = LinearDiscriminantAnalysis()\n",
    "LDA.fit(X_train, y_train)"
   ]
  },
  {
   "cell_type": "markdown",
   "metadata": {},
   "source": [
    "### Plot Projection"
   ]
  },
  {
   "cell_type": "code",
   "execution_count": 139,
   "metadata": {},
   "outputs": [
    {
     "name": "stderr",
     "output_type": "stream",
     "text": [
      "C:\\Users\\Will\\Anaconda2\\envs\\py35\\lib\\site-packages\\numpy\\core\\numeric.py:583: ComplexWarning: Casting complex values to real discards the imaginary part\n",
      "  return array(a, dtype, copy=False, order=order, subok=True)\n"
     ]
    },
    {
     "data": {
      "text/plain": [
       "<seaborn.axisgrid.PairGrid at 0x27f9404b160>"
      ]
     },
     "execution_count": 139,
     "metadata": {},
     "output_type": "execute_result"
    },
    {
     "data": {
      "image/png": "[encoded data removed]",
      "text/plain": [
       "<matplotlib.figure.Figure at 0x27f9516de80>"
      ]
     },
     "metadata": {},
     "output_type": "display_data"
    }
   ],
   "source": [
    "lda_train = LDA.transform(X_train)\n",
    "cls_vals = y_train.astype('int')\n",
    "\n",
    "df = pd.concat([lda_train, cls_vals], axis=1)\n",
    "df.columns = ['LD1','LD2','class']\n",
    "\n",
    "sns.pairplot(x_vars=[\"LD1\"], y_vars=[\"LD2\"], data=df, \n",
    "hue=\"class\", size=5)"
   ]
  },
  {
   "cell_type": "markdown",
   "metadata": {},
   "source": [
    "### Test Model"
   ]
  },
  {
   "cell_type": "code",
   "execution_count": 141,
   "metadata": {},
   "outputs": [
    {
     "data": {
      "text/plain": [
       "0.97714285714285709"
      ]
     },
     "execution_count": 141,
     "metadata": {},
     "output_type": "execute_result"
    }
   ],
   "source": [
    "lda_test = LDA.transform(X_test)\n",
    "predictions = LDA.predict(lda_test)\n",
    "LDA.score(predictions,y_test)"
   ]
  }
 ],
 "metadata": {
  "kernelspec": {
   "display_name": "Python 3",
   "language": "python",
   "name": "python3"
  },
  "language_info": {
   "codemirror_mode": {
    "name": "ipython",
    "version": 3
   },
   "file_extension": ".py",
   "mimetype": "text/x-python",
   "name": "python",
   "nbconvert_exporter": "python",
   "pygments_lexer": "ipython3",
   "version": "3.5.3"
  }
 },
 "nbformat": 4,
 "nbformat_minor": 2
}
