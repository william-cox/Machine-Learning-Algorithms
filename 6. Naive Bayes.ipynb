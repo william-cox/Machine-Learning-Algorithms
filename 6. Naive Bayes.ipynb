{
 "cells": [
  {
   "cell_type": "code",
   "execution_count": 17,
   "metadata": {},
   "outputs": [],
   "source": [
    "import numpy as np\n",
    "import pandas as pd\n",
    "import random\n",
    "import operator\n",
    "import scipy.stats\n",
    "\n",
    "from sklearn import model_selection\n",
    "from sklearn.model_selection import train_test_split"
   ]
  },
  {
   "cell_type": "code",
   "execution_count": 18,
   "metadata": {
    "collapsed": true
   },
   "outputs": [],
   "source": [
    "#load data\n",
    "df = pd.read_csv('../data/breast-cancer-wisconsin.data.txt')\n",
    "\n",
    "#clean data\n",
    "df = df.replace('?',-99999)\n",
    "df = df.astype(float)\n",
    "df = df.drop(['id'],1)\n",
    "\n",
    "#shuffle data\n",
    "df = df.reindex(np.random.permutation(df.index))\n",
    "df = df.reset_index(drop=True)\n",
    "\n",
    "#copy data\n",
    "tf = df.copy()"
   ]
  },
  {
   "cell_type": "code",
   "execution_count": 19,
   "metadata": {
    "collapsed": true
   },
   "outputs": [],
   "source": [
    "# prepare configuration for cross validation test harness\n",
    "seed = 7\n",
    "\n",
    "X_train, X_test, y_train, y_test = model_selection.train_test_split(tf.iloc[:,:9], \n",
    "                                                                    tf.iloc[:,9], \n",
    "                                                                    test_size=0.25, \n",
    "                                                                    random_state=seed)"
   ]
  },
  {
   "cell_type": "code",
   "execution_count": 20,
   "metadata": {
    "collapsed": true
   },
   "outputs": [],
   "source": [
    "class NaiveBayes(object):\n",
    "    \n",
    "    #initialize parameters\n",
    "    def __init__(self, printing=False):\n",
    "        self.printing = printing\n",
    "    \n",
    "    #build model    \n",
    "    def fit(self, X_train, y_train):\n",
    "        self.trainSet = pd.concat([X_train, y_train],axis=1)\n",
    "        \n",
    "        \n",
    "        class_summaries = self.class_summaries(self.trainSet)\n",
    "        \n",
    "        self.summaries = class_summaries\n",
    "        \n",
    "        return class_summaries\n",
    "    \n",
    "    #summarize class by mean and stdev\n",
    "    def class_summaries(self, dataset):\n",
    "        summaries = {}\n",
    "        \n",
    "        for cls in dataset['class'].unique():\n",
    "            cls_data = dataset[dataset['class'] == cls]\n",
    "            summary = cls_data.describe().loc[['mean','std']]\n",
    "            summaries[cls] = summary\n",
    "            \n",
    "        return summaries\n",
    "    \n",
    "    #find gaussian probability\n",
    "    def gaussian_probability(self, x, mean, std):\n",
    "        probability = scipy.stats.norm(mean, std).pdf(x)\n",
    "        return probability\n",
    "    \n",
    "    #calculate probabilities of testInstance belonging to each class\n",
    "    def class_probabilities(self, summaries, testInstance):\n",
    "        probabilities = {}\n",
    "\n",
    "        #for each class/summary...\n",
    "        for cls, classSummary in summaries.items():\n",
    "            probabilities[cls] = 1\n",
    "\n",
    "            #for each feature...\n",
    "            for i in range(np.shape(summaries[cls].values)[1] - 1):\n",
    "                mean = classSummary.iloc[0][i]\n",
    "                stdev = classSummary.iloc[1][i]\n",
    "                x = testInstance[i]\n",
    "\n",
    "                #apply chain rule of probabilities\n",
    "                probabilities[cls] *= self.gaussian_probability(x, mean, stdev)\n",
    "\n",
    "        return probabilities\n",
    "     \n",
    "    #predict class for datapoint\n",
    "    def class_predict(self, summaries, testInstance):\n",
    "        probabilities = self.class_probabilities(summaries, testInstance)\n",
    "        bestLabel, bestProb = None, -1\n",
    "        \n",
    "        for cls, probability in probabilities.items():\n",
    "            if bestLabel is None or probability > bestProb:\n",
    "                bestProb = probability\n",
    "                bestLabel = cls\n",
    "        \n",
    "        return bestLabel\n",
    "    \n",
    "    #make predictions\n",
    "    def predict(self, X_test):\n",
    "        self.testSet = X_test\n",
    "        predictions = []\n",
    "        \n",
    "        for i in range(len(self.testSet)):\n",
    "            testInstance = self.testSet.iloc[i]\n",
    "            result = self.class_predict(self.summaries, testInstance)\n",
    "            predictions.append(result)\n",
    "        return predictions\n",
    "        \n",
    "    #evaluate predictions\n",
    "    def score(self, predictions, y_test):\n",
    "        actual = y_test\n",
    "        correct = sum(predictions == actual) \n",
    "        accuracy = correct / len(actual)\n",
    "        return accuracy\n",
    "            "
   ]
  },
  {
   "cell_type": "code",
   "execution_count": 21,
   "metadata": {},
   "outputs": [
    {
     "data": {
      "text/plain": [
       "0.97142857142857142"
      ]
     },
     "execution_count": 21,
     "metadata": {},
     "output_type": "execute_result"
    }
   ],
   "source": [
    "nb = NaiveBayes()\n",
    "summaries = nb.fit(X_train, y_train)\n",
    "predictions = nb.predict(X_test)\n",
    "nb.score(predictions, y_test)"
   ]
  }
 ],
 "metadata": {
  "kernelspec": {
   "display_name": "Python 3",
   "language": "python",
   "name": "python3"
  },
  "language_info": {
   "codemirror_mode": {
    "name": "ipython",
    "version": 3
   },
   "file_extension": ".py",
   "mimetype": "text/x-python",
   "name": "python",
   "nbconvert_exporter": "python",
   "pygments_lexer": "ipython3",
   "version": "3.5.3"
  }
 },
 "nbformat": 4,
 "nbformat_minor": 2
}
