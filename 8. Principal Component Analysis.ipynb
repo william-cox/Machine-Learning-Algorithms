{
 "cells": [
  {
   "cell_type": "code",
   "execution_count": 1,
   "metadata": {
    "collapsed": true
   },
   "outputs": [],
   "source": [
    "import numpy as np\n",
    "import pandas as pd\n",
    "import random\n",
    "import operator\n",
    "import scipy.stats\n",
    "import seaborn as sns\n",
    "import matplotlib.pyplot as plt\n",
    "%matplotlib inline\n",
    "\n",
    "from sklearn import model_selection\n",
    "from sklearn.model_selection import train_test_split\n",
    "from sklearn.preprocessing import StandardScaler\n",
    "from sklearn import decomposition"
   ]
  },
  {
   "cell_type": "code",
   "execution_count": 2,
   "metadata": {
    "collapsed": true
   },
   "outputs": [],
   "source": [
    "#load data\n",
    "df = pd.read_csv('../data/breast-cancer-wisconsin.data.txt')\n",
    "\n",
    "#clean data\n",
    "df = df.replace('?',-99999)\n",
    "df = df.astype(float)\n",
    "df = df.drop(['id'],1)\n",
    "\n",
    "#shuffle data\n",
    "df = df.reindex(np.random.permutation(df.index))\n",
    "df = df.reset_index(drop=True)\n",
    "\n",
    "#copy data\n",
    "tf = df.copy()"
   ]
  },
  {
   "cell_type": "code",
   "execution_count": 3,
   "metadata": {
    "collapsed": true
   },
   "outputs": [],
   "source": [
    "# Scale data\n",
    "standard_scaler = StandardScaler()\n",
    "X = standard_scaler.fit_transform(tf.iloc[:,:9])\n",
    "\n",
    "y = tf.iloc[:,9].astype('int')\n",
    "\n",
    "X, y = pd.DataFrame(X), pd.Series(y)"
   ]
  },
  {
   "cell_type": "code",
   "execution_count": 4,
   "metadata": {
    "collapsed": true
   },
   "outputs": [],
   "source": [
    "class PrincipalComponentAnalysis(object):\n",
    "    \n",
    "    def __init__(self, printing=False, k=2):\n",
    "        self.printing = printing\n",
    "        self.k = k\n",
    "        \n",
    "    def fit(self,X_train):\n",
    "        self.trainSet = X_train #class is ignored\n",
    "        self.n_features = X_train.shape[1]\n",
    "        \n",
    "        trainSet = self.trainSet\n",
    "        \n",
    "        #get feature means\n",
    "        _means = trainSet.describe().loc['mean'].values \n",
    "        \n",
    "        #create covariance matrix\n",
    "        cov_mat = self.covariance_matrix(trainSet.T)\n",
    "        \n",
    "        #compute eigenvectors and eigenvalues from covariance matrix\n",
    "        eig_pairs = self.eigen(cov_mat)\n",
    "        \n",
    "        ##create transformation matrix\n",
    "        self.transformation_matrix(eig_pairs)\n",
    "        \n",
    "        return\n",
    "    \n",
    "    def covariance_matrix(self, dataset):\n",
    "        \"\"\"Computes the covariance matrix of a dataset\"\"\"\n",
    "        cov_mat = np.cov(dataset)\n",
    "        self.cov_mat = cov_mat\n",
    "        return cov_mat\n",
    "    \n",
    "    def eigen(self, cov_mat):\n",
    "        \"\"\"Returns a sorted list of eigenvector/-value pairs\"\"\"\n",
    "        # eigenvectors and eigenvalues for the from the covariance matrix\n",
    "        eig_val, eig_vec = np.linalg.eig(cov_mat)\n",
    "        \n",
    "        #sorts eigenvalues to find corresponding eigenvectors -- strongest principal components\n",
    "        top_eig_vals = np.sort(eig_val)\n",
    "        self.top_eig_vals = top_eig_vals[::-1]\n",
    "        \n",
    "        #create pairs of eig_vals and eig_vecs\n",
    "        eig_pairs = {}\n",
    "        \n",
    "        for i, val in enumerate(eig_val):\n",
    "            eig_pairs[val] = eig_vec[i]\n",
    "        \n",
    "        self.eig_pairs = eig_pairs\n",
    "        \n",
    "        return eig_pairs\n",
    "    \n",
    "    def transformation_matrix(self, eig_pairs):\n",
    "        \"\"\"Uses k top eigenvectors as a transformation matrix\"\"\"\n",
    "        k = self.k\n",
    "        printing = self.printing\n",
    "        \n",
    "        #choose k eigenvectors with the largest eigenvalues\n",
    "        top_eig_vals = self.top_eig_vals[0:k]\n",
    "        \n",
    "        #retrieve eigenvectors for the top k eigenvalues\n",
    "        top_eig_vecs = []\n",
    "        \n",
    "        for val in top_eig_vals:\n",
    "            eigvec = eig_pairs[val]\n",
    "            top_eig_vecs.append(eigvec)\n",
    "            \n",
    "        #create transformation matrix from eigenvectors\n",
    "        W = np.hstack(top_eig_vecs)\n",
    "        W = W.reshape(k,self.n_features)\n",
    "        self.W = W\n",
    "        \n",
    "        #printing options\n",
    "        if printing:            \n",
    "            print('Matrix W:\\n', W)\n",
    "            \n",
    "        return W\n",
    "    \n",
    "    #project to k feature dimensions (i.e. k principle components)\n",
    "    def transform(self, dataset):\n",
    "        \"\"\"Transform dataset\"\"\"\n",
    "        printing = self.printing\n",
    "        W = self.W\n",
    "        \n",
    "        pca_matrix = W.dot(dataset.T)\n",
    "        \n",
    "        if printing:\n",
    "            print(pca_matrix)\n",
    "        \n",
    "        self.pca_matrix = pca_matrix\n",
    "        \n",
    "        return pca_matrix"
   ]
  },
  {
   "cell_type": "markdown",
   "metadata": {},
   "source": [
    "### Train Model"
   ]
  },
  {
   "cell_type": "code",
   "execution_count": 5,
   "metadata": {
    "collapsed": true
   },
   "outputs": [],
   "source": [
    "PCA = PrincipalComponentAnalysis()\n",
    "PCA.fit(X)\n",
    "pca = PCA.transform(X)"
   ]
  },
  {
   "cell_type": "markdown",
   "metadata": {},
   "source": [
    "### Plot Projection"
   ]
  },
  {
   "cell_type": "code",
   "execution_count": 6,
   "metadata": {
    "collapsed": true
   },
   "outputs": [],
   "source": [
    "#return PCA matrix\n",
    "pca = pd.DataFrame(pca).T\n",
    "pca = pd.concat([pca, pd.Series(list(y.index))],axis=1)\n",
    "pca.columns = ['PC1','PC2','index']\n",
    "pca = pca.set_index('index')"
   ]
  },
  {
   "cell_type": "code",
   "execution_count": 7,
   "metadata": {},
   "outputs": [
    {
     "data": {
      "text/plain": [
       "<seaborn.axisgrid.PairGrid at 0x1e217a34e10>"
      ]
     },
     "execution_count": 7,
     "metadata": {},
     "output_type": "execute_result"
    },
    {
     "data": {
      "image/png": "[encoded data removed]",
      "text/plain": [
       "<matplotlib.figure.Figure at 0x1e217a34e48>"
      ]
     },
     "metadata": {},
     "output_type": "display_data"
    }
   ],
   "source": [
    "#add class to PCA matrix for plotting\n",
    "cls_vals = y.astype('int')\n",
    "df = pd.concat([pca, cls_vals], axis=1)\n",
    "df.columns = ['PC1','PC2','class']\n",
    "\n",
    "#plot PCA matrix\n",
    "sns.pairplot(x_vars=[\"PC1\"], y_vars=[\"PC2\"], data=df, \n",
    "hue=\"class\", size=5)"
   ]
  }
 ],
 "metadata": {
  "kernelspec": {
   "display_name": "Python 3",
   "language": "python",
   "name": "python3"
  },
  "language_info": {
   "codemirror_mode": {
    "name": "ipython",
    "version": 3
   },
   "file_extension": ".py",
   "mimetype": "text/x-python",
   "name": "python",
   "nbconvert_exporter": "python",
   "pygments_lexer": "ipython3",
   "version": "3.5.3"
  }
 },
 "nbformat": 4,
 "nbformat_minor": 2
}
